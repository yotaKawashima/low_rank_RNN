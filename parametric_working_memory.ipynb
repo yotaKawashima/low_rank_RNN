{
 "cells": [
  {
   "cell_type": "code",
   "execution_count": null,
   "metadata": {},
   "outputs": [],
   "source": [
    "import numpy as np \n",
    "import matplotlib.pyplot as plt\n",
    "import torch\n",
    "import torch_directml\n",
    "from torch import nn \n",
    "from torch.utils.data import Dataset, DataLoader\n",
    "from sklearn.mixture import GaussianMixture \n",
    "#from torchvision.transforms import ToTensor, Lambda, Compose\n",
    "\n",
    "device = torch_directml.device()\n",
    "print('Using {}'.format(device))\n",
    "\n",
    "np.random.seed(0)"
   ]
  }
 ],
 "metadata": {
  "language_info": {
   "name": "python"
  }
 },
 "nbformat": 4,
 "nbformat_minor": 2
}
